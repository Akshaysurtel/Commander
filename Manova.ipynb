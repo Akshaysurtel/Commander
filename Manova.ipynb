{
  "nbformat": 4,
  "nbformat_minor": 0,
  "metadata": {
    "colab": {
      "provenance": [],
      "authorship_tag": "ABX9TyMx7gKY3bb/l2qVsACPbdfQ",
      "include_colab_link": true
    },
    "kernelspec": {
      "name": "python3",
      "display_name": "Python 3"
    },
    "language_info": {
      "name": "python"
    }
  },
  "cells": [
    {
      "cell_type": "markdown",
      "metadata": {
        "id": "view-in-github",
        "colab_type": "text"
      },
      "source": [
        "<a href=\"https://colab.research.google.com/github/Akshaysurtel/Commander/blob/main/Manova.ipynb\" target=\"_parent\"><img src=\"https://colab.research.google.com/assets/colab-badge.svg\" alt=\"Open In Colab\"/></a>"
      ]
    },
    {
      "cell_type": "code",
      "execution_count": null,
      "metadata": {
        "id": "yYFGZqjxB82k"
      },
      "outputs": [],
      "source": [
        "import numpy as np\n",
        "from statsmodels.multivariate.manova import MANOVA"
      ]
    },
    {
      "cell_type": "code",
      "source": [
        "\n",
        "\n",
        "X = np.random.randint(0, 100, size=(10, 5))\n",
        "print('Input :\\n', X)"
      ],
      "metadata": {
        "colab": {
          "base_uri": "https://localhost:8080/"
        },
        "id": "wALAUo_YB-GE",
        "outputId": "2af48a49-b935-4c85-cece-c8e5b95b6be6"
      },
      "execution_count": null,
      "outputs": [
        {
          "output_type": "stream",
          "name": "stdout",
          "text": [
            "Input :\n",
            " [[79 19 85 97 52]\n",
            " [97 84 28  1 57]\n",
            " [60 89 25 72 16]\n",
            " [57 83 60 51 41]\n",
            " [48 86  2 54 37]\n",
            " [82 52 79 61 69]\n",
            " [37 85 47 12 33]\n",
            " [76 73 24  1 35]\n",
            " [47 88 95 35 89]\n",
            " [93 40 57 70 78]]\n"
          ]
        }
      ]
    },
    {
      "cell_type": "code",
      "source": [
        "Y = np.random.randint(50, 300, size=(10, 3))\n",
        "print('Target :\\n', Y)"
      ],
      "metadata": {
        "colab": {
          "base_uri": "https://localhost:8080/"
        },
        "id": "A8b0JQSrCESx",
        "outputId": "843a3ea9-597f-4e98-a0f5-e32850e06ca5"
      },
      "execution_count": null,
      "outputs": [
        {
          "output_type": "stream",
          "name": "stdout",
          "text": [
            "Target :\n",
            " [[239 241 166]\n",
            " [104 108 122]\n",
            " [ 54 134  67]\n",
            " [246 152 112]\n",
            " [ 75 289 205]\n",
            " [ 66 154 264]\n",
            " [154 185 153]\n",
            " [167 108 297]\n",
            " [112 200 117]\n",
            " [148  99 272]]\n"
          ]
        }
      ]
    },
    {
      "cell_type": "code",
      "source": [
        "\n",
        "\n",
        "# Y = XB^T+E\n",
        "manova = MANOVA(endog=X,\n",
        "                exog=Y)\n",
        "result = manova.mv_test()\n",
        "print(result.summary())"
      ],
      "metadata": {
        "colab": {
          "base_uri": "https://localhost:8080/"
        },
        "id": "gnpy3jazCK-o",
        "outputId": "07267aae-e6eb-464b-9e78-d6c7d67c49c3"
      },
      "execution_count": null,
      "outputs": [
        {
          "output_type": "stream",
          "name": "stdout",
          "text": [
            "                 Multivariate linear model\n",
            "===========================================================\n",
            "                                                           \n",
            "-----------------------------------------------------------\n",
            "           x0           Value  Num DF Den DF F Value Pr > F\n",
            "-----------------------------------------------------------\n",
            "          Wilks' lambda 0.5476 5.0000 3.0000  0.4957 0.7699\n",
            "         Pillai's trace 0.4524 5.0000 3.0000  0.4957 0.7699\n",
            " Hotelling-Lawley trace 0.8261 5.0000 3.0000  0.4957 0.7699\n",
            "    Roy's greatest root 0.8261 5.0000 3.0000  0.4957 0.7699\n",
            "-----------------------------------------------------------\n",
            "                                                           \n",
            "-----------------------------------------------------------\n",
            "           x1           Value  Num DF Den DF F Value Pr > F\n",
            "-----------------------------------------------------------\n",
            "          Wilks' lambda 0.3284 5.0000 3.0000  1.2270 0.4617\n",
            "         Pillai's trace 0.6716 5.0000 3.0000  1.2270 0.4617\n",
            " Hotelling-Lawley trace 2.0450 5.0000 3.0000  1.2270 0.4617\n",
            "    Roy's greatest root 2.0450 5.0000 3.0000  1.2270 0.4617\n",
            "-----------------------------------------------------------\n",
            "                                                           \n",
            "-----------------------------------------------------------\n",
            "           x2           Value  Num DF Den DF F Value Pr > F\n",
            "-----------------------------------------------------------\n",
            "          Wilks' lambda 0.4520 5.0000 3.0000  0.7275 0.6482\n",
            "         Pillai's trace 0.5480 5.0000 3.0000  0.7275 0.6482\n",
            " Hotelling-Lawley trace 1.2125 5.0000 3.0000  0.7275 0.6482\n",
            "    Roy's greatest root 1.2125 5.0000 3.0000  0.7275 0.6482\n",
            "===========================================================\n",
            "\n"
          ]
        }
      ]
    },
    {
      "cell_type": "code",
      "source": [
        "# Import necessary libraries\n",
        "import pandas as pd\n",
        "from statsmodels.multivariate.manova import MANOVA\n",
        "from sklearn.datasets import load_iris"
      ],
      "metadata": {
        "id": "QnPJbpxZCNqR"
      },
      "execution_count": null,
      "outputs": []
    },
    {
      "cell_type": "code",
      "source": [
        "\n",
        "\n",
        "# Load the iris dataset\n",
        "data = load_iris()\n",
        "df = pd.DataFrame(data.data, columns=data.feature_names)\n",
        "df['species'] = data.target\n",
        "print(df.head())"
      ],
      "metadata": {
        "colab": {
          "base_uri": "https://localhost:8080/"
        },
        "id": "HoZ8N6zICVTv",
        "outputId": "101c8fc0-d771-4760-a945-de828bd2a8c6"
      },
      "execution_count": null,
      "outputs": [
        {
          "output_type": "stream",
          "name": "stdout",
          "text": [
            "   sepal length (cm)  sepal width (cm)  petal length (cm)  petal width (cm)  \\\n",
            "0                5.1               3.5                1.4               0.2   \n",
            "1                4.9               3.0                1.4               0.2   \n",
            "2                4.7               3.2                1.3               0.2   \n",
            "3                4.6               3.1                1.5               0.2   \n",
            "4                5.0               3.6                1.4               0.2   \n",
            "\n",
            "   species  \n",
            "0        0  \n",
            "1        0  \n",
            "2        0  \n",
            "3        0  \n",
            "4        0  \n"
          ]
        }
      ]
    },
    {
      "cell_type": "code",
      "source": [
        "# Rename columns to remove spaces\n",
        "df.columns = ['sepal_length', 'sepal_width',\n",
        "              'petal_length', 'petal_width', 'species']"
      ],
      "metadata": {
        "id": "pPmb7MgWCXbz"
      },
      "execution_count": null,
      "outputs": []
    },
    {
      "cell_type": "code",
      "source": [
        "df.columns = ['sepal_length', 'sepal_width',\n",
        "              'petal_length', 'petal_width', 'species']"
      ],
      "metadata": {
        "id": "LM1px6fBCbTx"
      },
      "execution_count": null,
      "outputs": []
    },
    {
      "cell_type": "code",
      "source": [
        "df['species'] = df['species'].map(\n",
        "    {0: 'setosa', 1: 'versicolor', 2: 'virginica'})"
      ],
      "metadata": {
        "id": "fn29YHnCC5ui"
      },
      "execution_count": null,
      "outputs": []
    },
    {
      "cell_type": "code",
      "source": [
        "\n",
        "\n",
        "# Apply MANOVA with the renamed columns\n",
        "manova = MANOVA.from_formula('sepal_length + sepal_width + petal_length + petal_width ~ species', data=df)\n",
        "result = manova.mv_test()\n",
        "print(result)"
      ],
      "metadata": {
        "id": "bzvOphn9C8n2",
        "outputId": "5d5e503c-e86f-4646-de7f-a0802dcbadd5",
        "colab": {
          "base_uri": "https://localhost:8080/"
        }
      },
      "execution_count": null,
      "outputs": [
        {
          "output_type": "stream",
          "name": "stdout",
          "text": [
            "                   Multivariate linear model\n",
            "================================================================\n",
            "                                                                \n",
            "----------------------------------------------------------------\n",
            "       Intercept         Value  Num DF  Den DF   F Value  Pr > F\n",
            "----------------------------------------------------------------\n",
            "          Wilks' lambda  0.0170 4.0000 144.0000 2086.7720 0.0000\n",
            "         Pillai's trace  0.9830 4.0000 144.0000 2086.7720 0.0000\n",
            " Hotelling-Lawley trace 57.9659 4.0000 144.0000 2086.7720 0.0000\n",
            "    Roy's greatest root 57.9659 4.0000 144.0000 2086.7720 0.0000\n",
            "----------------------------------------------------------------\n",
            "                                                                \n",
            "----------------------------------------------------------------\n",
            "        species          Value  Num DF  Den DF   F Value  Pr > F\n",
            "----------------------------------------------------------------\n",
            "          Wilks' lambda  0.0234 8.0000 288.0000  199.1453 0.0000\n",
            "         Pillai's trace  1.1919 8.0000 290.0000   53.4665 0.0000\n",
            " Hotelling-Lawley trace 32.4773 8.0000 203.4024  582.1970 0.0000\n",
            "    Roy's greatest root 32.1919 4.0000 145.0000 1166.9574 0.0000\n",
            "================================================================\n",
            "\n"
          ]
        }
      ]
    },
    {
      "cell_type": "code",
      "source": [],
      "metadata": {
        "id": "a6nR_xOAC_DL"
      },
      "execution_count": null,
      "outputs": []
    }
  ]
}